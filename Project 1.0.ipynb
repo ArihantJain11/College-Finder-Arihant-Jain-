{
 "cells": [
  {
   "cell_type": "markdown",
   "id": "5e33474f",
   "metadata": {},
   "source": [
    "# Project 1.0"
   ]
  },
  {
   "cell_type": "markdown",
   "id": "dbca064f",
   "metadata": {},
   "source": [
    "Student Portfolio"
   ]
  },
  {
   "cell_type": "code",
   "execution_count": 7,
   "id": "30f954ff",
   "metadata": {},
   "outputs": [
    {
     "name": "stdout",
     "output_type": "stream",
     "text": [
      "Enter the roll number: 1\n",
      "Enter the name: Ayushi\n",
      "Enter the Standard: 10\n",
      "Enter the Division: A\n",
      "Enter the marks in the maths: 89\n",
      "Enter the marks in the science: 97\n",
      "Enter the marks in the english: 78\n",
      "Roll Number is:  1\n",
      "Name is:  Ayushi\n",
      "Standard is:  10\n",
      "Division is:  A\n",
      "Marks are:  [89, 97, 78]\n",
      "Total Marks are:  264\n",
      "Average Marks are:  88.0\n"
     ]
    }
   ],
   "source": [
    "class Student:\n",
    "    marks = []\n",
    "    def getData(self, rn, name, standard, division, maths, science, english):\n",
    "        Student.rn = rn\n",
    "        Student.name = name\n",
    "        Student.standard = standard\n",
    "        Student.division = division\n",
    "        Student.marks.append(maths)\n",
    "        Student.marks.append(science)\n",
    "        Student.marks.append(english)\n",
    "        \n",
    "    def displayData(self):\n",
    "        print (\"Roll Number is: \", Student.rn)\n",
    "        print (\"Name is: \", Student.name)\n",
    "        print (\"Standard is: \", Student.standard)\n",
    "        print (\"Division is: \", Student.division)\n",
    "        #print (\"Marks in subject 1: \", Student.marks[0])\n",
    "        #print (\"Marks in subject 2: \", Student.marks[1])\n",
    "        #print (\"Marks in subject 3: \", Student.marks[2])\n",
    "        print (\"Marks are: \", Student.marks)\n",
    "        print (\"Total Marks are: \", self.total())\n",
    "        print (\"Average Marks are: \", self.average())\n",
    "        \n",
    "    def total(self):\n",
    "        return (Student.marks[0] + Student.marks[1] +Student.marks[2])\n",
    "    \n",
    "    def average(self):\n",
    "        return ((Student.marks[0] + Student.marks[1] +Student.marks[2])/3)\n",
    "    \n",
    "r = int (input(\"Enter the roll number: \"))\n",
    "name = input(\"Enter the name: \")\n",
    "standard = int(input(\"Enter the Standard: \"))\n",
    "division = input(\"Enter the Division: \")\n",
    "maths = int (input(\"Enter the marks in the maths: \"))\n",
    "science = int (input(\"Enter the marks in the science: \"))\n",
    "english = int (input(\"Enter the marks in the english: \"))\n",
    "\n",
    "s1 = Student()\n",
    "s1.getData(r, name, standard, division, maths, science, english)\n",
    "s1.displayData()"
   ]
  }
 ],
 "metadata": {
  "kernelspec": {
   "display_name": "Python 3",
   "language": "python",
   "name": "python3"
  },
  "language_info": {
   "codemirror_mode": {
    "name": "ipython",
    "version": 3
   },
   "file_extension": ".py",
   "mimetype": "text/x-python",
   "name": "python",
   "nbconvert_exporter": "python",
   "pygments_lexer": "ipython3",
   "version": "3.8.8"
  }
 },
 "nbformat": 4,
 "nbformat_minor": 5
}
