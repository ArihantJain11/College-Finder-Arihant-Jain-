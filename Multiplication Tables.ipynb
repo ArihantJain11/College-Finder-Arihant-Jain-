{
 "cells": [
  {
   "cell_type": "markdown",
   "id": "a9b98c02",
   "metadata": {},
   "source": [
    "# Project of Multiplication of Tables"
   ]
  },
  {
   "cell_type": "code",
   "execution_count": 1,
   "id": "ef5d7612",
   "metadata": {},
   "outputs": [
    {
     "name": "stdout",
     "output_type": "stream",
     "text": [
      "Sample Table\n",
      " Enter the number of your choice\n",
      "3\n",
      "3  x  1  =  3\n",
      "3  x  2  =  6\n",
      "3  x  3  =  9\n",
      "3  x  4  =  12\n",
      "3  x  5  =  15\n",
      "3  x  6  =  18\n",
      "3  x  7  =  21\n",
      "3  x  8  =  24\n",
      "3  x  9  =  27\n",
      "3  x  10  =  30\n",
      "3  x  11  =  33\n",
      "3  x  12  =  36\n",
      "********************\n"
     ]
    }
   ],
   "source": [
    "print(\"Sample Table\")\n",
    "num = int(input(\" Enter the number of your choice\\n\"))\n",
    "multiple = 1\n",
    "while(multiple<=12):\n",
    "    print(num, \" x \", multiple, \" = \", multiple*num)\n",
    "    multiple=multiple+1\n",
    "print(\"*\"*20)"
   ]
  },
  {
   "cell_type": "code",
   "execution_count": null,
   "id": "0cc69844",
   "metadata": {},
   "outputs": [],
   "source": []
  }
 ],
 "metadata": {
  "kernelspec": {
   "display_name": "Python 3",
   "language": "python",
   "name": "python3"
  },
  "language_info": {
   "codemirror_mode": {
    "name": "ipython",
    "version": 3
   },
   "file_extension": ".py",
   "mimetype": "text/x-python",
   "name": "python",
   "nbconvert_exporter": "python",
   "pygments_lexer": "ipython3",
   "version": "3.8.8"
  }
 },
 "nbformat": 4,
 "nbformat_minor": 5
}
